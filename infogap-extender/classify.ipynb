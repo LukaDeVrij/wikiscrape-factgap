{
 "cells": [
  {
   "cell_type": "code",
   "execution_count": null,
   "id": "3343709b",
   "metadata": {},
   "outputs": [
    {
     "name": "stdout",
     "output_type": "stream",
     "text": [
      "Kiel mia instruministo, mi ŝatus respondi al ĉi tiu ĉi.\n",
      "\n",
      "La Esperanto lingvo estas tipa lingvo, kiu estis konstruita de la angla lingvofilo, L. L. Zorko. Ĝi estas komprenata kiel la rezulto de multaj lingvoj en la mondo. \n",
      "\n",
      "**La ĉefaj principoj de la Esperanto lingvo estas:**\n",
      "\n",
      "* **Panonicismo:** Ĉiuj lingvo en la mondo estas konstruita de la homoj, kaj ĉiuj lingvoj estas konektaj. Ĉu povos kunibli la Esperanto lingvon, la homoj devas havi la bone akcepton de la lingvo, ĉar Ĝi ne estas la angla lingvo.\n",
      "* **Evoluo:** Ĝi ne estas la lingvo de la homoj, sed Ĝi progresas kaj evoluigas. Ĉiuj lingvo havis ekzisto antaŭ, kaj hodiaŭ la Esperanto lingvo estas ideo.\n",
      "* **Similajo:** Ĉiuj lingvoj estas similaj en la bazaj konstruadoj de la lingvo. Ĉiuj lingvoro ĉirkaŭas kun la malnovaj lingvo ideo.\n",
      "* **Komprenabbla:** Ĝi estas lingvo, kio estas facile al kompreni. Ĉiujas havas la bone akcepton de la Esperanto lingvo.\n",
      "* **Kranaj:** Ĉiuj lingvoro estas en la mondo, kaj Ĝi estas pli facile kun la Esperanto lingvo. Ĉiujas havas la bone akcepton de la Esperanto lingvo.\n",
      "* **Esperanta:** La Esperanto lingvo ne estas ne-konstanta lingvo, kaj ĝi estas la lingvo de malĉefaj, pleniu en la mondo. Ĝi estas komunikebla lingvo, ece si la lingvo de la homoj.\n",
      "\n",
      "**Alie, la kiam al la lingvo aplikas la ĝenroj:**\n",
      "\n",
      "* **Nomon:** La Esperanto lingvo estas nomata \"panon\"-lingvo.\n",
      "* **Kiel ĝi estas strukturada:** La Esperanto lingvo estas malpeza, kaj ĝi estas pli facile kiel la gramatiko de la angla lingvo.\n",
      "* **Kiel ĝi estas uzita:** Ĉiomaj gramatiko kaj signo estos alie, ke Ĝi formis la traduktado al la angla lingvo, kaj Ĝi estas konvenanta lingvo, ece si la homoj estas ĉomparaj kun la Esperanto lingvo.\n",
      "\n",
      "Estas laŭ la mildea akceptiĉo de la Esperanto lingvo, ĝi estas kio ĝi signifas. Ĝi ne estas ne-konstanta lingvo. Ĝi estas lingvo, kiu kio estas la homoj, kaj Ĝi ne estas ne-mable.\n",
      "\n",
      "Ĉu vi volas ke mi ĝenie respondi al vi alian kiel alia lingvo?\n"
     ]
    }
   ],
   "source": [
    "import requests\n",
    "import pandas as pd\n",
    "\n",
    "def ask_gemma3_1b(question, ollama_url=\"http://localhost:11434/api/generate\"):\n",
    "    payload = {\n",
    "        \"model\": \"gemma3:1b\",\n",
    "        \"prompt\": question,\n",
    "        \"stream\": False\n",
    "    }\n",
    "    response = requests.post(ollama_url, json=payload)\n",
    "    response.raise_for_status()\n",
    "    return response.json().get(\"response\", \"\")\n",
    "\n",
    "# Example usage:\n",
    "answer = ask_gemma3_1b(\"\")\n",
    "print(answer)"
   ]
  }
 ],
 "metadata": {
  "kernelspec": {
   "display_name": "infogap-extender",
   "language": "python",
   "name": "python3"
  },
  "language_info": {
   "codemirror_mode": {
    "name": "ipython",
    "version": 3
   },
   "file_extension": ".py",
   "mimetype": "text/x-python",
   "name": "python",
   "nbconvert_exporter": "python",
   "pygments_lexer": "ipython3",
   "version": "3.12.10"
  }
 },
 "nbformat": 4,
 "nbformat_minor": 5
}

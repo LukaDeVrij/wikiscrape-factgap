{
 "cells": [
  {
   "cell_type": "code",
   "execution_count": 5,
   "id": "f9b8535a",
   "metadata": {},
   "outputs": [
    {
     "name": "stderr",
     "output_type": "stream",
     "text": [
      "Processing files: 100%|██████████| 12/12 [00:44<00:00,  3.69s/it]\n"
     ]
    }
   ],
   "source": [
    "import requests\n",
    "import pandas as pd\n",
    "import os\n",
    "from tqdm import tqdm\n",
    "\n",
    "def extract_fact(filename, language, ollama_url=\"http://localhost:11434/api/generate\"):\n",
    "    with open(filename, \"r\", encoding=\"utf-8\") as file:\n",
    "        text = file.read()\n",
    "\n",
    "    en_prompt = f\"\"\"\n",
    "    Please breakdown the following paragraph into a list of independent facts. Output the facts as a list using * (Markdown), and say nothing else.\\n\n",
    "    {text}\n",
    "    \"\"\"\n",
    "\n",
    "    ru_prompt = f\"\"\"\n",
    "    Пожалуйста, разбейте следующий абзац на список независимых фактов.Выведите факты в виде списка, используя * (Markdown), и больше ничего не говорите.\\n \n",
    "    {text}\n",
    "    \"\"\" # TODO add the output format to be the same as the English one\n",
    "\n",
    "    payload = {\n",
    "        \"model\": \"gemma3:1b\",\n",
    "        \"prompt\": en_prompt if language == 'en' else ru_prompt,\n",
    "        \"stream\": False\n",
    "    }\n",
    "    response = requests.post(ollama_url, json=payload)\n",
    "    response.raise_for_status()\n",
    "    return response.json().get(\"response\", \"\")\n",
    "\n",
    "facts = []\n",
    "for filename in tqdm(os.listdir('scraped'), desc=\"Processing files\"):\n",
    "    filepath = os.path.join('scraped', filename)\n",
    "    if os.path.isfile(filepath):\n",
    "        language = 'en' if filename.startswith('en_') else 'ru'\n",
    "        facts_md = extract_fact(filepath, language)\n",
    "        # print(f\"Extracted facts from {filename}: {facts_md}\")\n",
    "        facts_split = facts_md.split('*')\n",
    "        # print(f\"Number of facts extracted from {filename}: {len(facts_split)}\")\n",
    "        facts_split = [fact.strip() for fact in facts_split if fact.strip()]\n",
    "        facts.append({\"filename\": filename, \"facts\": facts_split})\n",
    "\n",
    "df = pd.DataFrame(facts)\n",
    "df.to_json(\"output/facts.json\", orient=\"records\", force_ascii=False, indent=2)"
   ]
  }
 ],
 "metadata": {
  "kernelspec": {
   "display_name": "infogap-extender",
   "language": "python",
   "name": "python3"
  },
  "language_info": {
   "codemirror_mode": {
    "name": "ipython",
    "version": 3
   },
   "file_extension": ".py",
   "mimetype": "text/x-python",
   "name": "python",
   "nbconvert_exporter": "python",
   "pygments_lexer": "ipython3",
   "version": "3.12.10"
  }
 },
 "nbformat": 4,
 "nbformat_minor": 5
}

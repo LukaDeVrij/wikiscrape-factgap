{
 "cells": [
  {
   "cell_type": "code",
   "execution_count": 2,
   "id": "f236be62",
   "metadata": {},
   "outputs": [],
   "source": [
    "import requests\n",
    "import os\n",
    "\n",
    "def scrape_wikipage(title: str, language: str = \"en\") -> str:\n",
    "    api_url = f\"https://{language}.wikipedia.org/w/api.php\"\n",
    "    params = {\n",
    "        \"action\": \"query\",\n",
    "        \"prop\": \"extracts\",\n",
    "        \"exintro\": True,\n",
    "        \"explaintext\": True,\n",
    "        \"titles\": title,\n",
    "        \"format\": \"json\"\n",
    "    }\n",
    "    with requests.Session() as S:\n",
    "        response = S.get(url=api_url, params=params)\n",
    "        data = response.json()\n",
    "        page = next(iter(data[\"query\"][\"pages\"].values()))\n",
    "        text = page.get(\"extract\", \"\")\n",
    "        os.makedirs(\"scraped\", exist_ok=True)\n",
    "        filename = os.path.join(\"scraped\", language + f\"_{title.replace(' ', '_')}.txt\")\n",
    "        with open(filename, \"w\", encoding=\"utf-8\") as f:\n",
    "            f.write(text)\n",
    "\n",
    "# Example usage:\n",
    "scrape_wikipage(\"Vladimir Putin\", \"en\")\n",
    "scrape_wikipage(\"Volodymyr Zelenskyy\", \"en\")\n",
    "scrape_wikipage(\"Sergey Lavrov\", \"en\")\n",
    "scrape_wikipage(\"Denys Shmyhal\", \"en\")\n",
    "scrape_wikipage(\"Maria Lvova-Belova\", \"en\")\n",
    "scrape_wikipage(\"Olha Stefanishyna\", \"en\")\n",
    "\n",
    "scrape_wikipage(\"Путин, Владимир Владимирович\", \"ru\")\n",
    "scrape_wikipage(\"Зеленский, Владимир Александрович\", \"ru\")\n",
    "scrape_wikipage(\"Лавров, Сергей Викторович\", \"ru\")\n",
    "scrape_wikipage(\"Шмыгаль, Денис Анатольевич\", \"ru\")\n",
    "scrape_wikipage(\"Львова-Белова, Мария Алексеевна\", \"ru\")\n",
    "scrape_wikipage(\"Стефанишина, Ольга Витальевна\", \"ru\")\n",
    "\n",
    "\n",
    "# Idee is dat we een aantal pagina's gaan scrapen en deze gaan gebruiken om een dataset te maken.\n",
    "# omdat sommige paginas fucking lang zijn enkle intro pakken\n",
    "# personen:\n",
    "# Putin\n",
    "# Zelenskyy\n",
    "# Lavrov\n",
    "# Shmyhal\n",
    "# Lvova-Belova\n",
    "# Olha Stefanishyna\n",
    "\n",
    "# steeds een russisch en dan ukraineesche, soort vcan vergelijkbare personen in functie\n",
    "\n",
    "# stappen hierna: Ollama gebruiken om de facts te genereren, voor oekrainsche versie en Russische versie\n",
    "# dan infer checker, kijken of de facts overeenkomen tussen talen\n",
    "# dan alle facts classificeren op sentiment \n",
    "\n"
   ]
  },
  {
   "cell_type": "code",
   "execution_count": null,
   "id": "117b0c37",
   "metadata": {},
   "outputs": [],
   "source": []
  }
 ],
 "metadata": {
  "kernelspec": {
   "display_name": "infogap-extender",
   "language": "python",
   "name": "python3"
  },
  "language_info": {
   "codemirror_mode": {
    "name": "ipython",
    "version": 3
   },
   "file_extension": ".py",
   "mimetype": "text/x-python",
   "name": "python",
   "nbconvert_exporter": "python",
   "pygments_lexer": "ipython3",
   "version": "3.12.10"
  }
 },
 "nbformat": 4,
 "nbformat_minor": 5
}
